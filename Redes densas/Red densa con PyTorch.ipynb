{
  "cells": [
    {
      "cell_type": "markdown",
      "metadata": {
        "colab_type": "text",
        "id": "view-in-github"
      },
      "source": [
        "<a href=\"https://colab.research.google.com/github/gibranfp/CursoAprendizajeProfundo/blob/2026-1/notebooks/1c_redes_densas.ipynb\" target=\"_parent\"><img src=\"https://colab.research.google.com/assets/colab-badge.svg\" alt=\"Open In Colab\"/></a>"
      ]
    },
    {
      "cell_type": "markdown",
      "metadata": {},
      "source": [
        "*Autor:* Pablo Uriel Benítez Ramírez"
      ]
    },
    {
      "cell_type": "markdown",
      "metadata": {
        "id": "k1Jl3Url9WEW"
      },
      "source": [
        "# Regresión con redes densas en PyTorch"
      ]
    },
    {
      "cell_type": "code",
      "execution_count": 58,
      "metadata": {
        "id": "8R9z0GV1aI6g"
      },
      "outputs": [],
      "source": [
        "import numpy as np\n",
        "import matplotlib.pyplot as plt\n",
        "\n",
        "import torch as th\n",
        "from torch import nn\n",
        "\n",
        "# fijamos las semillas de los PRNG por reproducibilidad\n",
        "np.random.seed(42)\n",
        "th.manual_seed(42)\n",
        "\n",
        "T_LOTE = 8"
      ]
    },
    {
      "cell_type": "markdown",
      "metadata": {
        "id": "GGKeiy4Y9ZV9"
      },
      "source": [
        "## Conjunto de datos\n",
        "Se usa el conjunto de datos de regresión Diabetes Dataset con scikit-learn. Este conjunto de datos está compuesto por 442 ejemplos con 10 atributos numéricos y una variable de respuesta."
      ]
    },
    {
      "cell_type": "code",
      "execution_count": 59,
      "metadata": {
        "id": "o6XPSTx-dKB1"
      },
      "outputs": [],
      "source": [
        "from sklearn.datasets import load_diabetes\n",
        "\n",
        "db = load_diabetes(return_X_y=False, as_frame=True)"
      ]
    },
    {
      "cell_type": "markdown",
      "metadata": {
        "id": "tSVymo_xeTox"
      },
      "source": [
        "Revisamos la descripción del conjunto:"
      ]
    },
    {
      "cell_type": "code",
      "execution_count": 60,
      "metadata": {
        "colab": {
          "base_uri": "https://localhost:8080/"
        },
        "id": "inX7054p4mNj",
        "outputId": "adabae24-84e6-4447-c77b-4f91e20087b0"
      },
      "outputs": [
        {
          "name": "stdout",
          "output_type": "stream",
          "text": [
            ".. _diabetes_dataset:\n",
            "\n",
            "Diabetes dataset\n",
            "----------------\n",
            "\n",
            "Ten baseline variables, age, sex, body mass index, average blood\n",
            "pressure, and six blood serum measurements were obtained for each of n =\n",
            "442 diabetes patients, as well as the response of interest, a\n",
            "quantitative measure of disease progression one year after baseline.\n",
            "\n",
            "**Data Set Characteristics:**\n",
            "\n",
            ":Number of Instances: 442\n",
            "\n",
            ":Number of Attributes: First 10 columns are numeric predictive values\n",
            "\n",
            ":Target: Column 11 is a quantitative measure of disease progression one year after baseline\n",
            "\n",
            ":Attribute Information:\n",
            "    - age     age in years\n",
            "    - sex\n",
            "    - bmi     body mass index\n",
            "    - bp      average blood pressure\n",
            "    - s1      tc, total serum cholesterol\n",
            "    - s2      ldl, low-density lipoproteins\n",
            "    - s3      hdl, high-density lipoproteins\n",
            "    - s4      tch, total cholesterol / HDL\n",
            "    - s5      ltg, possibly log of serum triglycerides level\n",
            "    - s6      glu, blood sugar level\n",
            "\n",
            "Note: Each of these 10 feature variables have been mean centered and scaled by the standard deviation times the square root of `n_samples` (i.e. the sum of squares of each column totals 1).\n",
            "\n",
            "Source URL:\n",
            "https://www4.stat.ncsu.edu/~boos/var.select/diabetes.html\n",
            "\n",
            "For more information see:\n",
            "Bradley Efron, Trevor Hastie, Iain Johnstone and Robert Tibshirani (2004) \"Least Angle Regression,\" Annals of Statistics (with discussion), 407-499.\n",
            "(https://web.stanford.edu/~hastie/Papers/LARS/LeastAngle_2002.pdf)\n",
            "\n"
          ]
        }
      ],
      "source": [
        "print(db.DESCR)"
      ]
    },
    {
      "cell_type": "markdown",
      "metadata": {
        "id": "RiAbXEI0eW5Y"
      },
      "source": [
        "Desplegamos los datos:"
      ]
    },
    {
      "cell_type": "code",
      "execution_count": 61,
      "metadata": {
        "colab": {
          "base_uri": "https://localhost:8080/",
          "height": 423
        },
        "id": "CljeqnNPXN05",
        "outputId": "6d7159f9-2561-45a5-d5ed-46f9cbc48556"
      },
      "outputs": [
        {
          "data": {
            "text/html": [
              "<div>\n",
              "<style scoped>\n",
              "    .dataframe tbody tr th:only-of-type {\n",
              "        vertical-align: middle;\n",
              "    }\n",
              "\n",
              "    .dataframe tbody tr th {\n",
              "        vertical-align: top;\n",
              "    }\n",
              "\n",
              "    .dataframe thead th {\n",
              "        text-align: right;\n",
              "    }\n",
              "</style>\n",
              "<table border=\"1\" class=\"dataframe\">\n",
              "  <thead>\n",
              "    <tr style=\"text-align: right;\">\n",
              "      <th></th>\n",
              "      <th>age</th>\n",
              "      <th>sex</th>\n",
              "      <th>bmi</th>\n",
              "      <th>bp</th>\n",
              "      <th>s1</th>\n",
              "      <th>s2</th>\n",
              "      <th>s3</th>\n",
              "      <th>s4</th>\n",
              "      <th>s5</th>\n",
              "      <th>s6</th>\n",
              "    </tr>\n",
              "  </thead>\n",
              "  <tbody>\n",
              "    <tr>\n",
              "      <th>0</th>\n",
              "      <td>0.038076</td>\n",
              "      <td>0.050680</td>\n",
              "      <td>0.061696</td>\n",
              "      <td>0.021872</td>\n",
              "      <td>-0.044223</td>\n",
              "      <td>-0.034821</td>\n",
              "      <td>-0.043401</td>\n",
              "      <td>-0.002592</td>\n",
              "      <td>0.019907</td>\n",
              "      <td>-0.017646</td>\n",
              "    </tr>\n",
              "    <tr>\n",
              "      <th>1</th>\n",
              "      <td>-0.001882</td>\n",
              "      <td>-0.044642</td>\n",
              "      <td>-0.051474</td>\n",
              "      <td>-0.026328</td>\n",
              "      <td>-0.008449</td>\n",
              "      <td>-0.019163</td>\n",
              "      <td>0.074412</td>\n",
              "      <td>-0.039493</td>\n",
              "      <td>-0.068332</td>\n",
              "      <td>-0.092204</td>\n",
              "    </tr>\n",
              "    <tr>\n",
              "      <th>2</th>\n",
              "      <td>0.085299</td>\n",
              "      <td>0.050680</td>\n",
              "      <td>0.044451</td>\n",
              "      <td>-0.005670</td>\n",
              "      <td>-0.045599</td>\n",
              "      <td>-0.034194</td>\n",
              "      <td>-0.032356</td>\n",
              "      <td>-0.002592</td>\n",
              "      <td>0.002861</td>\n",
              "      <td>-0.025930</td>\n",
              "    </tr>\n",
              "    <tr>\n",
              "      <th>3</th>\n",
              "      <td>-0.089063</td>\n",
              "      <td>-0.044642</td>\n",
              "      <td>-0.011595</td>\n",
              "      <td>-0.036656</td>\n",
              "      <td>0.012191</td>\n",
              "      <td>0.024991</td>\n",
              "      <td>-0.036038</td>\n",
              "      <td>0.034309</td>\n",
              "      <td>0.022688</td>\n",
              "      <td>-0.009362</td>\n",
              "    </tr>\n",
              "    <tr>\n",
              "      <th>4</th>\n",
              "      <td>0.005383</td>\n",
              "      <td>-0.044642</td>\n",
              "      <td>-0.036385</td>\n",
              "      <td>0.021872</td>\n",
              "      <td>0.003935</td>\n",
              "      <td>0.015596</td>\n",
              "      <td>0.008142</td>\n",
              "      <td>-0.002592</td>\n",
              "      <td>-0.031988</td>\n",
              "      <td>-0.046641</td>\n",
              "    </tr>\n",
              "    <tr>\n",
              "      <th>...</th>\n",
              "      <td>...</td>\n",
              "      <td>...</td>\n",
              "      <td>...</td>\n",
              "      <td>...</td>\n",
              "      <td>...</td>\n",
              "      <td>...</td>\n",
              "      <td>...</td>\n",
              "      <td>...</td>\n",
              "      <td>...</td>\n",
              "      <td>...</td>\n",
              "    </tr>\n",
              "    <tr>\n",
              "      <th>437</th>\n",
              "      <td>0.041708</td>\n",
              "      <td>0.050680</td>\n",
              "      <td>0.019662</td>\n",
              "      <td>0.059744</td>\n",
              "      <td>-0.005697</td>\n",
              "      <td>-0.002566</td>\n",
              "      <td>-0.028674</td>\n",
              "      <td>-0.002592</td>\n",
              "      <td>0.031193</td>\n",
              "      <td>0.007207</td>\n",
              "    </tr>\n",
              "    <tr>\n",
              "      <th>438</th>\n",
              "      <td>-0.005515</td>\n",
              "      <td>0.050680</td>\n",
              "      <td>-0.015906</td>\n",
              "      <td>-0.067642</td>\n",
              "      <td>0.049341</td>\n",
              "      <td>0.079165</td>\n",
              "      <td>-0.028674</td>\n",
              "      <td>0.034309</td>\n",
              "      <td>-0.018114</td>\n",
              "      <td>0.044485</td>\n",
              "    </tr>\n",
              "    <tr>\n",
              "      <th>439</th>\n",
              "      <td>0.041708</td>\n",
              "      <td>0.050680</td>\n",
              "      <td>-0.015906</td>\n",
              "      <td>0.017293</td>\n",
              "      <td>-0.037344</td>\n",
              "      <td>-0.013840</td>\n",
              "      <td>-0.024993</td>\n",
              "      <td>-0.011080</td>\n",
              "      <td>-0.046883</td>\n",
              "      <td>0.015491</td>\n",
              "    </tr>\n",
              "    <tr>\n",
              "      <th>440</th>\n",
              "      <td>-0.045472</td>\n",
              "      <td>-0.044642</td>\n",
              "      <td>0.039062</td>\n",
              "      <td>0.001215</td>\n",
              "      <td>0.016318</td>\n",
              "      <td>0.015283</td>\n",
              "      <td>-0.028674</td>\n",
              "      <td>0.026560</td>\n",
              "      <td>0.044529</td>\n",
              "      <td>-0.025930</td>\n",
              "    </tr>\n",
              "    <tr>\n",
              "      <th>441</th>\n",
              "      <td>-0.045472</td>\n",
              "      <td>-0.044642</td>\n",
              "      <td>-0.073030</td>\n",
              "      <td>-0.081413</td>\n",
              "      <td>0.083740</td>\n",
              "      <td>0.027809</td>\n",
              "      <td>0.173816</td>\n",
              "      <td>-0.039493</td>\n",
              "      <td>-0.004222</td>\n",
              "      <td>0.003064</td>\n",
              "    </tr>\n",
              "  </tbody>\n",
              "</table>\n",
              "<p>442 rows × 10 columns</p>\n",
              "</div>"
            ],
            "text/plain": [
              "          age       sex       bmi        bp        s1        s2        s3  \\\n",
              "0    0.038076  0.050680  0.061696  0.021872 -0.044223 -0.034821 -0.043401   \n",
              "1   -0.001882 -0.044642 -0.051474 -0.026328 -0.008449 -0.019163  0.074412   \n",
              "2    0.085299  0.050680  0.044451 -0.005670 -0.045599 -0.034194 -0.032356   \n",
              "3   -0.089063 -0.044642 -0.011595 -0.036656  0.012191  0.024991 -0.036038   \n",
              "4    0.005383 -0.044642 -0.036385  0.021872  0.003935  0.015596  0.008142   \n",
              "..        ...       ...       ...       ...       ...       ...       ...   \n",
              "437  0.041708  0.050680  0.019662  0.059744 -0.005697 -0.002566 -0.028674   \n",
              "438 -0.005515  0.050680 -0.015906 -0.067642  0.049341  0.079165 -0.028674   \n",
              "439  0.041708  0.050680 -0.015906  0.017293 -0.037344 -0.013840 -0.024993   \n",
              "440 -0.045472 -0.044642  0.039062  0.001215  0.016318  0.015283 -0.028674   \n",
              "441 -0.045472 -0.044642 -0.073030 -0.081413  0.083740  0.027809  0.173816   \n",
              "\n",
              "           s4        s5        s6  \n",
              "0   -0.002592  0.019907 -0.017646  \n",
              "1   -0.039493 -0.068332 -0.092204  \n",
              "2   -0.002592  0.002861 -0.025930  \n",
              "3    0.034309  0.022688 -0.009362  \n",
              "4   -0.002592 -0.031988 -0.046641  \n",
              "..        ...       ...       ...  \n",
              "437 -0.002592  0.031193  0.007207  \n",
              "438  0.034309 -0.018114  0.044485  \n",
              "439 -0.011080 -0.046883  0.015491  \n",
              "440  0.026560  0.044529 -0.025930  \n",
              "441 -0.039493 -0.004222  0.003064  \n",
              "\n",
              "[442 rows x 10 columns]"
            ]
          },
          "execution_count": 61,
          "metadata": {},
          "output_type": "execute_result"
        }
      ],
      "source": [
        "db['data']"
      ]
    },
    {
      "cell_type": "markdown",
      "metadata": {
        "id": "QFvUKrRtecTn"
      },
      "source": [
        "Exploramos la distribución de los valores de la variable objetivo:"
      ]
    },
    {
      "cell_type": "code",
      "execution_count": 62,
      "metadata": {
        "colab": {
          "base_uri": "https://localhost:8080/",
          "height": 506
        },
        "id": "ErWowTiiKO4u",
        "outputId": "c95b17cd-32e1-43fe-f443-3ac70070e652"
      },
      "outputs": [
        {
          "data": {
            "image/png": "[encoded data removed]",
            "text/plain": [
              "<Figure size 500x500 with 1 Axes>"
            ]
          },
          "metadata": {},
          "output_type": "display_data"
        }
      ],
      "source": [
        "import pandas as pd\n",
        "import seaborn as sns\n",
        "\n",
        "sns.displot(db['target'][:])\n",
        "plt.show()"
      ]
    },
    {
      "cell_type": "markdown",
      "metadata": {
        "id": "Qz6v6Ms3GNXn"
      },
      "source": [
        "Dividimos este conjunto en subconjuntos de entrenamiento, validación y prueba usando la función `train_test_split` de scikit-learn."
      ]
    },
    {
      "cell_type": "code",
      "execution_count": 63,
      "metadata": {
        "id": "EYgRb2HeGS4N"
      },
      "outputs": [],
      "source": [
        "from sklearn.model_selection import train_test_split\n",
        "\n",
        "X_ent, X_prueba, y_ent, y_prueba = train_test_split(db['data'].to_numpy(),\n",
        "                                                    db['target'].to_numpy(),\n",
        "                                                    test_size = 0.3,\n",
        "                                                    shuffle=True,\n",
        "                                                    random_state=42)\n",
        "X_ent, X_val, y_ent, y_val = train_test_split(X_ent,\n",
        "                                              y_ent,\n",
        "                                              test_size = 0.2,\n",
        "                                              shuffle=True,\n",
        "                                              random_state=42)"
      ]
    },
    {
      "cell_type": "markdown",
      "metadata": {
        "id": "oM0jeLfNejyA"
      },
      "source": [
        "Estandarizamos los valores de los atributos:"
      ]
    },
    {
      "cell_type": "code",
      "execution_count": 64,
      "metadata": {
        "id": "K7-JtkUqJxrm"
      },
      "outputs": [],
      "source": [
        "from sklearn.preprocessing import StandardScaler\n",
        "\n",
        "sc = StandardScaler()\n",
        "sc.fit(X_ent)\n",
        "\n",
        "X_ent = sc.transform(X_ent)\n",
        "X_val = sc.transform(X_val)\n",
        "X_prueba = sc.transform(X_prueba)"
      ]
    },
    {
      "cell_type": "markdown",
      "metadata": {
        "id": "DSWPoPLMGdT-"
      },
      "source": [
        "Convertimos los subconjuntos de arreglos de NumPy a instancias de `Tensor` de PyTorch y los cargamos al GPU (si está disponible). Para evitar errores de tipos de datos distintos de los operandos, es importante asegurarse de que coincidan. En esta libreta vamos a trabajar con enteros de 32 bits, por lo que lo especificamos en la función `tensor`."
      ]
    },
    {
      "cell_type": "code",
      "execution_count": 65,
      "metadata": {
        "colab": {
          "base_uri": "https://localhost:8080/"
        },
        "id": "TfCW9iajddm6",
        "outputId": "065abccd-76b7-4bcd-8b31-6219c905da7b"
      },
      "outputs": [
        {
          "name": "stdout",
          "output_type": "stream",
          "text": [
            "Forma de X_ent = torch.Size([247, 10]), y_ent = torch.Size([247])\n",
            "Forma de X_val = torch.Size([62, 10]), y_val = torch.Size([62])\n",
            "Forma de X_prueba = torch.Size([133, 10]), y_prueba = torch.Size([133])\n"
          ]
        }
      ],
      "source": [
        "disp = 'cuda:0' if th.cuda.is_available() else 'cpu'\n",
        "\n",
        "X_ent = th.tensor(X_ent, dtype = th.float32, device = disp)\n",
        "X_val = th.tensor(X_val, dtype = th.float32, device = disp)\n",
        "X_prueba = th.tensor(X_prueba, dtype = th.float32, device = disp)\n",
        "\n",
        "y_ent = th.tensor(y_ent,  dtype = th.float32, device = disp)\n",
        "y_val = th.tensor(y_val,  dtype = th.float32, device = disp)\n",
        "y_prueba = th.tensor(y_prueba, dtype = th.float32,  device = disp)\n",
        "\n",
        "print(f'Forma de X_ent = {X_ent.shape}, y_ent = {y_ent.shape}')\n",
        "print(f'Forma de X_val = {X_val.shape}, y_val = {y_val.shape}')\n",
        "print(f'Forma de X_prueba = {X_prueba.shape}, y_prueba = {y_prueba.shape}')"
      ]
    },
    {
      "cell_type": "markdown",
      "metadata": {
        "id": "DktEvDycHNBV"
      },
      "source": [
        "También es importante asegurarse de que las formas de los tensores de las predicciones (`y_hat`) y de los salidas reales (`y`) sean iguales. Aquí vamos a presuponer que son vectores columnas de $n \\times 1$, por lo que cambiamos de forma."
      ]
    },
    {
      "cell_type": "code",
      "execution_count": 66,
      "metadata": {
        "colab": {
          "base_uri": "https://localhost:8080/"
        },
        "id": "4j9FUL7oHXug",
        "outputId": "bd46cecc-d080-4a58-d134-7891f2155769"
      },
      "outputs": [
        {
          "name": "stdout",
          "output_type": "stream",
          "text": [
            "Forma de y_ent = torch.Size([247, 1]), y_val = torch.Size([62, 1]) y_prueba = torch.Size([133, 1])\n"
          ]
        }
      ],
      "source": [
        "y_ent = y_ent.reshape((y_ent.shape[0], 1))\n",
        "y_val = y_val.reshape((y_val.shape[0], 1))\n",
        "y_prueba = y_prueba.reshape((y_prueba.shape[0], 1))\n",
        "print(f'Forma de y_ent = {y_ent.shape}, y_val = {y_val.shape} y_prueba = {y_prueba.shape}')"
      ]
    },
    {
      "cell_type": "markdown",
      "metadata": {
        "id": "PM3fHNfDZTkY"
      },
      "source": [
        "Creamos nuestro cargador de datos a partir de los tensores mediante la clase `TensorDataset`."
      ]
    },
    {
      "cell_type": "code",
      "execution_count": 67,
      "metadata": {
        "id": "j_7ZyOwmZs-a"
      },
      "outputs": [],
      "source": [
        "from torch.utils.data import TensorDataset, DataLoader\n",
        "\n",
        "entdl = DataLoader(TensorDataset(X_ent, y_ent),\n",
        "                   batch_size=T_LOTE,\n",
        "                   shuffle=True,\n",
        "                   drop_last=True)\n",
        "valdl = DataLoader(TensorDataset(X_val, y_val),\n",
        "                   batch_size=T_LOTE,\n",
        "                   shuffle=False,\n",
        "                   drop_last=False)\n",
        "pruebadl = DataLoader(TensorDataset(X_prueba, y_prueba),\n",
        "                      batch_size=1,\n",
        "                      shuffle=False,\n",
        "                      drop_last=False)"
      ]
    },
    {
      "cell_type": "markdown",
      "metadata": {
        "id": "rcC6w_6m9iYP"
      },
      "source": [
        "## Clase `Module` de `nn`\n",
        "Muchas de las clases y funciones para definir, entrenar y evaluar redes neuronales están contenidas el módulo `nn` de PyTorch. En particular contamos con la clase [`Module`](https://pytorch.org/docs/stable/generated/torch.nn.Module.html), una plantilla base para definir los distintos componentes de una arquitectura de red (ver [https://pytorch.org/docs/stable/notes/modules.htm](https://pytorch.org/docs/stable/notes/modules.html)). De hecho, hay varias subclases predefinidas de `Module` asociadas a diversos tipos de capas. Por ej., la subclase [`Linear`](https://pytorch.org/docs/stable/generated/torch.nn.Linear.html) representa una capa densa o completamente conectada. Esta subclase tiene como argumentos no opcionales la dimension de los vectores de entrada y el número de neuronas (dimensión de los vectores de salida). Una instancia de `Linear` procesa una matriz de tamaño $n \\times \\text{in_features}$, la cual multiplica por la transpuesta de una matriz de pesos de $\\text{out_features} \\times \\text{in_features}$ y le suma un vector de sesgos de tamaño $\\text{out_features}$"
      ]
    },
    {
      "cell_type": "code",
      "execution_count": 68,
      "metadata": {
        "id": "_O-Ot-Pmd8od"
      },
      "outputs": [],
      "source": [
        "clin = nn.Linear(in_features = X_ent.shape[-1], # dimensión de entradas\n",
        "                 out_features = 1, # número de neuronas (dimensión de salidas)\n",
        "                 bias = True) # si usar sesgo o no"
      ]
    },
    {
      "cell_type": "markdown",
      "metadata": {
        "id": "sudVDqZJ9lGQ"
      },
      "source": [
        "Podemos especificar que se cree directamente una instancia de cualquier subclase de `Module` en el CPU o en el GPU pasando el argumento `device=nombre_del_dispositivo` al constructor. También podemos mover una instancia ya creada de un dispositivo a otro con el método `to(nombre_del_dispositivo)`. Movemos la instancia de `Linear` al GPU."
      ]
    },
    {
      "cell_type": "code",
      "execution_count": 69,
      "metadata": {
        "colab": {
          "base_uri": "https://localhost:8080/"
        },
        "id": "_muStgxVg8LZ",
        "outputId": "e62d99b9-796b-4cc6-f8ba-8135194e507c"
      },
      "outputs": [
        {
          "data": {
            "text/plain": [
              "Linear(in_features=10, out_features=1, bias=True)"
            ]
          },
          "execution_count": 69,
          "metadata": {},
          "output_type": "execute_result"
        }
      ],
      "source": [
        "clin.to(disp)"
      ]
    },
    {
      "cell_type": "markdown",
      "metadata": {
        "id": "jpSpu0Z49-QD"
      },
      "source": [
        "Obtenemos la salida de la capa para el conjunto de datos de entrenamiento mediante el operador de paréntesis."
      ]
    },
    {
      "cell_type": "code",
      "execution_count": 70,
      "metadata": {
        "colab": {
          "base_uri": "https://localhost:8080/"
        },
        "id": "8lz4EkAy9_ZT",
        "outputId": "ef4d4b2c-03f4-4cc8-97d1-b94a32c46c36"
      },
      "outputs": [
        {
          "data": {
            "text/plain": [
              "torch.Size([247, 1])"
            ]
          },
          "execution_count": 70,
          "metadata": {},
          "output_type": "execute_result"
        }
      ],
      "source": [
        "y_pred = clin(X_ent)\n",
        "y_pred.shape"
      ]
    },
    {
      "cell_type": "markdown",
      "metadata": {
        "id": "Ir2hbzaD-gdu"
      },
      "source": [
        "Para definir una nueva capa, un nuevo bloque o una red debemos crear una subclase de `Module` y especificar como mínimo los métodos:\n",
        "- `__init__`, que es el constructor de la subclase y en el cual se tiene que llamar al constructor de la clase base `Module` mediante la función `super` de Python.\n",
        "- `forward`, que define lo que se ejecuta al llamar al operador paréntesis en una instancia de dicha clase.\n",
        "\n",
        "Por ej. para crear nuestra propia capa densa en el método `__init__` (constructor) recibiríamos la dimensión de las entradas y el número de neuronas (dimensión de las salidas) e instanciaríamos la matriz de pesos $\\mathbf{W} \\in \\mathbb{R}^{d \\times k}$ y el vector de sesgos $\\mathbf{b} \\in \\mathbb{R}^k$. En el método `forward` se esperaría una matriz de $\\mathbf{X} \\in \\mathbb{R}^{n \\times d}$ como entrada y se realizaría la operación $\\mathbf{X} \\cdot \\mathbf{W}^\\top + \\mathbf{b}$."
      ]
    },
    {
      "cell_type": "code",
      "execution_count": 71,
      "metadata": {
        "id": "Zqa_amNEitES"
      },
      "outputs": [],
      "source": [
        "class MiLinear(nn.Module):\n",
        "  # En el constructor recibimos la dimensión de las entradas y la de las salidas\n",
        "  # e instanciamos la matriz de pesos W y el vector de sesgos b inicializándolos\n",
        "  # con números aleatorios y ceros, respectivamente.\n",
        "  def __init__(self, d_ent, d_sal):\n",
        "    super(MiLinear, self).__init__()\n",
        "    self.d_ent = d_ent\n",
        "    self.d_sal = d_sal\n",
        "    self.W = nn.Parameter(th.normal(size = (d_sal, d_ent), mean = 0, std = 0.1))\n",
        "    self.b = nn.Parameter(th.zeros(d_sal, dtype = th.float32))\n",
        "\n",
        "  # En este método se define el comportamiento del operador paréntesis. Al ser\n",
        "  # una capa densa, se espera recibir una matriz x de n x d_ent y se realizaría\n",
        "  # la operación de multiplicación de esta con la transpuesta de la matriz de\n",
        "  # pesos de d_sal x d_ent y se sumaría el vector de sesgos de d_sal elementos\n",
        "  def forward(self, x):\n",
        "    return x @ self.W.T + self.b"
      ]
    },
    {
      "cell_type": "markdown",
      "metadata": {
        "id": "xmFc8ZNv-kRO"
      },
      "source": [
        "Instanciamos la subclase de nuestra capa densa, la movemos a la GPU y pasamos el conjunto de entrenamiento."
      ]
    },
    {
      "cell_type": "code",
      "execution_count": 72,
      "metadata": {
        "colab": {
          "base_uri": "https://localhost:8080/"
        },
        "id": "JN8q8w01i5w6",
        "outputId": "0dcfb108-6fa8-40f3-a5e5-9d60163c1c49"
      },
      "outputs": [
        {
          "name": "stdout",
          "output_type": "stream",
          "text": [
            "Instancia de MiLinear() con forma = torch.Size([247, 1])\n"
          ]
        }
      ],
      "source": [
        "milin = MiLinear(X_ent.shape[-1], 1)\n",
        "milin.to(disp)\n",
        "\n",
        "print(f'Instancia de {milin} con forma = {milin(X_ent).shape}')"
      ]
    },
    {
      "cell_type": "markdown",
      "metadata": {
        "id": "A-5ufc-4GqDB"
      },
      "source": [
        "## Clases y funciones para optimizadores\n",
        "Para facilitar el entrenamiento de los modelos vamos a definir una función para un paso de entrenamiento, a la cual llamaremos `paso_ent`. Esta función recibe como argumento:\n",
        "- El modelo como una instancia de `Module` (`modelo`).\n",
        "- La función de pérdida (`fp`).\n",
        "- Una instancia de `Optimizer` del módulo `optim` de PyTorch para actualizar los pesos y sesgos (`opt`).\n",
        "- Una instancia de `Tensor` con el lote de entradas (`X`).\n",
        "- Una instancia de `Tensor` con el lote de salidas (`y`).\n",
        "\n",
        "La función obtiene las predicciones del modelo para las entradas, calcula la pérdida, obtiene los gradientes y actualiza todos los parámetros del modelo mediante descenso por gradiente."
      ]
    },
    {
      "cell_type": "code",
      "execution_count": 73,
      "metadata": {
        "id": "KqkJHbzOq1hQ"
      },
      "outputs": [],
      "source": [
        "from torch.optim import SGD\n",
        "\n",
        "def paso_ent(modelo, fp, opt, X, y):\n",
        "  opt.zero_grad() # se ponen los gradientes asociados a los parámetros\n",
        "                  # a actualizaren en cero\n",
        "  y_hat = modelo(X) # se propagan las entradas para obtener las predicciones\n",
        "  perdida = fp(y_hat, y) # se calcula la pérdida\n",
        "  perdida.backward() # se obtienen los gradientes\n",
        "  opt.step() # se actualizan todos los parámetros del modelo\n",
        "\n",
        "  with th.no_grad():\n",
        "    perdida_paso = perdida.cpu().numpy() # convertimos la pérdida (instancia de\n",
        "                                         # Tensor de orden 0) a NumPy, para\n",
        "                                         # lo que es necesario moverla a CPU\n",
        "  return perdida_paso"
      ]
    },
    {
      "cell_type": "markdown",
      "metadata": {
        "id": "Xi1zEp9yBzZa"
      },
      "source": [
        "También definimos una función para el ciclo de entrenamiento principal, que llamaremos `entrena`. Esta función recibe como argumentos:\n",
        "- El modelo como una instancia de `Module` (`modelo`).\n",
        "- La función de pérdida (`fp`).\n",
        "- La métrica de evaluación (`metrica`).\n",
        "- Una instancia de `Optimizer` del módulo `optim` de PyTorch para actualizar los pesos y sesgos (`opt`).\n",
        "- El cargador de datos del subconjunto de entrenamiento (`entdl`).\n",
        "- El cargador de datos del subconjunto de validación (`valdl`).\n",
        "- El número de épocas de entrenamiento (`n_epocas`).\n",
        "\n",
        "Para cada una de las épocas, va tomando un lote de entradas y salidas a la vez, con los cuales se realiza un paso de entrenamiento."
      ]
    },
    {
      "cell_type": "code",
      "execution_count": 74,
      "metadata": {
        "id": "okd23kq9TPko"
      },
      "outputs": [],
      "source": [
        "def entrena(modelo, fp, metrica, opt, entdl, valdl, n_epocas = 100):\n",
        "  hist = {'perdida_ent': np.zeros(n_epocas, dtype = np.float32),\n",
        "          'perdida_val': np.zeros(n_epocas, dtype = np.float32)}\n",
        "  for e in range(n_epocas):\n",
        "    # bucle de entrenamiento\n",
        "    modelo.train()\n",
        "    for lote, (Xlote, ylote) in enumerate(entdl):\n",
        "      hist['perdida_ent'][e] += paso_ent(modelo, fp, opt, Xlote, ylote)\n",
        "\n",
        "    # bucle de evaluación\n",
        "    modelo.eval()\n",
        "    for (Xlote, ylote) in valdl:\n",
        "      with th.no_grad():\n",
        "        y_pred = modelo(Xlote)\n",
        "        hist['perdida_val'][e] += metrica(y_pred, ylote).cpu().numpy()\n",
        "\n",
        "  return hist"
      ]
    },
    {
      "cell_type": "markdown",
      "metadata": {
        "id": "u1KpLOmRVRj1"
      },
      "source": [
        "Como función de pérdida emplearemos el error cuadrático medio (ECM) definido como\n",
        "\n",
        "$$\n",
        "\\mathcal{L}(\\mathbf{\\hat{y}}, \\mathbf{y}) = \\frac{1}{n}\\sum_{i=1}^n (\\hat{y}^{(i)} - y^{(i)})^2\n",
        "$$\n",
        "\n",
        "PyTorch incluye varias funciones de pérdida predefinidas dentro del submódulo `functional` del módulo `nn`, además de clases que envuelven estas funciones, cuyas instancias se conocen como criterios. Por ej. la función `mean_squared_error` de `functional` define el ECM y la clase `MSELoss` de `nn` es su correspondiente criterio. la cual define la función de pérdida de error cuadrático medio definida como criterios. Movemos la instancia de nuestra capa densa al GPU, creamos el criterio de ECM instanciando la clase `MSELoss`, entrenamos nuestro modelo de regresión lineal y graficamos la pérdida."
      ]
    },
    {
      "cell_type": "markdown",
      "metadata": {
        "id": "8NXgKsAPcFz_"
      },
      "source": [
        "## Red densa con `PyTorch`\n",
        "Se evalúan tres configuraciones distintas de redes densas que incluyen lo siguiente:\n",
        "- Más capas ocultas.\n",
        "- Distintas funciones de activación de las capas ocultas.\n",
        "- Técnicas de regularización.\n",
        "- Capas de normalización.\n"
      ]
    },
    {
      "cell_type": "markdown",
      "metadata": {},
      "source": [
        "### Configuración 1\n",
        "- Más capas ocultas: [32, 16, 8, 2]\n",
        "- Activación: ReLU y Sigmoide en ocultas\n",
        "- Regularización: Dropout 0.2\n",
        "- Normalización: BatchNorm después de cada capa oculta"
      ]
    },
    {
      "cell_type": "code",
      "execution_count": 75,
      "metadata": {
        "id": "DNXwcgzHyxB6"
      },
      "outputs": [
        {
          "data": {
            "image/png": "[encoded data removed]",
            "text/plain": [
              "<Figure size 640x480 with 1 Axes>"
            ]
          },
          "metadata": {},
          "output_type": "display_data"
        }
      ],
      "source": [
        "modelo = nn.Sequential(nn.Linear(X_ent.shape[-1], 32),\n",
        "                       \n",
        "                       nn.BatchNorm1d(32), \n",
        "                       nn.ReLU(),\n",
        "                       nn.Dropout(0.2),\n",
        "                       nn.Linear(32,16),\n",
        "                       \n",
        "                       nn.BatchNorm1d(16), \n",
        "                       nn.Sigmoid(),\n",
        "                       nn.Dropout(0.2),\n",
        "                       nn.Linear(16, 8),\n",
        "                       \n",
        "                       nn.BatchNorm1d(8), \n",
        "                       nn.ReLU(),\n",
        "                       nn.Dropout(0.2),\n",
        "                       nn.Linear(8, 2),\n",
        "\n",
        "                       nn.BatchNorm1d(2), \n",
        "                       nn.Sigmoid(),\n",
        "                       nn.Dropout(0.2),\n",
        "                       nn.Linear(2, 1)\n",
        "                       )\n",
        "\n",
        "modelo.to(disp)\n",
        "ecm = nn.MSELoss()\n",
        "opt = SGD(modelo.parameters(), lr = 1e-3)\n",
        "hist = entrena(modelo, ecm, nn.functional.mse_loss, opt,\n",
        "               entdl, valdl, n_epocas=200)\n",
        "\n",
        "plt.plot(hist['perdida_ent'] / len(entdl), label='Entrenamiento')\n",
        "plt.plot(hist['perdida_val'] / len(valdl), label='Validación')\n",
        "plt.xlabel('Época')\n",
        "plt.ylabel('Pérdida')\n",
        "plt.legend()\n",
        "plt.show()"
      ]
    },
    {
      "cell_type": "markdown",
      "metadata": {},
      "source": [
        "### Configuración 2\n",
        "- Más capas ocultas: [64, 128, 64, 32, 16]\n",
        "- Activación: ELU, LeakyReLU, GELU, SiLU, ReLU\n",
        "- Regularización: Dropout 0.1, 0.2, 0.3, 0.3, 0.2\n",
        "- Normalización: GroupNorm después de cada capa oculta"
      ]
    },
    {
      "cell_type": "code",
      "execution_count": 76,
      "metadata": {},
      "outputs": [
        {
          "data": {
            "image/png": "[encoded data removed]",
            "text/plain": [
              "<Figure size 640x480 with 1 Axes>"
            ]
          },
          "metadata": {},
          "output_type": "display_data"
        }
      ],
      "source": [
        "modelo = nn.Sequential(\n",
        "    nn.Linear(X_ent.shape[-1], 64),\n",
        "    nn.BatchNorm1d(64),   \n",
        "    nn.ELU(),        \n",
        "    nn.Dropout(0.1),\n",
        "\n",
        "    nn.Linear(64, 128),\n",
        "    nn.GroupNorm(16, 128), \n",
        "    nn.LeakyReLU(),  \n",
        "    nn.Dropout(0.2),\n",
        "\n",
        "    nn.Linear(128, 64),\n",
        "    nn.GroupNorm(8, 64),   \n",
        "    nn.GELU(),       \n",
        "    nn.Dropout(0.3),\n",
        "\n",
        "    nn.Linear(64, 32),\n",
        "    nn.GroupNorm(8, 32),   \n",
        "    nn.SiLU(),       \n",
        "    nn.Dropout(0.3),\n",
        "\n",
        "    nn.Linear(32, 16),\n",
        "    nn.GroupNorm(4, 16),   \n",
        "    nn.ReLU(),       \n",
        "    nn.Dropout(0.2),\n",
        "\n",
        "    nn.Linear(16, 1)\n",
        ")\n",
        "modelo.to(disp)\n",
        "\n",
        "ecm = nn.MSELoss()\n",
        "opt = SGD(modelo.parameters(), lr=1e-3, momentum=0.9)\n",
        "\n",
        "hist = entrena(modelo, ecm, nn.functional.mse_loss,\n",
        "               opt, entdl, valdl, n_epocas=300)\n",
        "\n",
        "plt.plot(hist['perdida_ent']/len(entdl), label='Entrenamiento')\n",
        "plt.plot(hist['perdida_val']/len(valdl), label='Validación')\n",
        "plt.xlabel('Época'); plt.ylabel('Pérdida (MSE)'); plt.legend(); plt.show()\n"
      ]
    },
    {
      "cell_type": "markdown",
      "metadata": {},
      "source": [
        "### Configuración 3\n",
        "- Más capas ocultas: [d, 10, 20, 1]\n",
        "- Activación: Sigmoid\n",
        "- Regularización: Dropout 0.2 despues de cada act\n",
        "- Normalización: por penalizacion L2, el weight_decay=1e-3"
      ]
    },
    {
      "cell_type": "code",
      "execution_count": null,
      "metadata": {},
      "outputs": [
        {
          "data": {
            "image/png": "[encoded data removed]",
            "text/plain": [
              "<Figure size 640x480 with 1 Axes>"
            ]
          },
          "metadata": {},
          "output_type": "display_data"
        }
      ],
      "source": [
        "import torch.nn.functional as F\n",
        "\n",
        "class Confi3(nn.Module):\n",
        "    def __init__(self, d_ent, p_drop=0.3):\n",
        "        super().__init__()\n",
        "        self.c1 = nn.Linear(d_ent, 10)\n",
        "        self.c2 = nn.Linear(10, 20)\n",
        "        self.out = nn.Linear(20, 1)\n",
        "        self.act = nn.Sigmoid()     \n",
        "        self.do1 = nn.Dropout(p_drop)\n",
        "        self.do2 = nn.Dropout(p_drop)\n",
        "\n",
        "    def forward(self, x):\n",
        "        x = self.act(self.c1(x))\n",
        "        x = self.do1(x)            \n",
        "        x = self.act(self.c2(x))\n",
        "        x = self.do2(x)\n",
        "        x = self.out(x)\n",
        "        return x\n",
        "\n",
        "modelo = Confi3(X_ent.shape[-1], p_drop=0.3).to(disp)\n",
        "\n",
        "ecm = nn.MSELoss()\n",
        "opt = SGD(modelo.parameters(), lr=1e-3, momentum=0.9,\n",
        "           weight_decay=1e-3)\n",
        "\n",
        "hist = entrena(modelo, ecm, F.mse_loss,\n",
        "                opt, entdl, valdl, n_epocas=200)\n",
        "\n",
        "plt.plot(hist['perdida_ent']/len(entdl), label='Entrenamiento')\n",
        "plt.plot(hist['perdida_val']/len(valdl), label='Validación')\n",
        "plt.xlabel('Época'); plt.ylabel('Pérdida (MSE)'); plt.legend(); plt.show()\n"
      ]
    }
  ],
  "metadata": {
    "accelerator": "GPU",
    "colab": {
      "include_colab_link": true,
      "provenance": []
    },
    "kernelspec": {
      "display_name": "Python 3",
      "name": "python3"
    },
    "language_info": {
      "codemirror_mode": {
        "name": "ipython",
        "version": 3
      },
      "file_extension": ".py",
      "mimetype": "text/x-python",
      "name": "python",
      "nbconvert_exporter": "python",
      "pygments_lexer": "ipython3",
      "version": "3.13.3"
    }
  },
  "nbformat": 4,
  "nbformat_minor": 0
}
