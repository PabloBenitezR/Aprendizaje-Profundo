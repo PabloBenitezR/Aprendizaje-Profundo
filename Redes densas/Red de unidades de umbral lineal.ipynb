{
 "cells": [
  {
   "cell_type": "markdown",
   "id": "5a279b3d",
   "metadata": {},
   "source": [
    "## Red de unidades de umbral lineal"
   ]
  },
  {
   "cell_type": "code",
   "execution_count": 99,
   "id": "1b6431a5",
   "metadata": {},
   "outputs": [],
   "source": [
    "def step(z):\n",
    "    return 1 if z >= 0 else 0\n",
    "\n",
    "def xnor(x1, x2):\n",
    "    # neuronas\n",
    "    z1 = x1 + x2 - 1.5   \n",
    "    z2 = -x1-x2 + 0.5 \n",
    "    h1=step(z1)\n",
    "    h2=step(z2)\n",
    "\n",
    "    # salida\n",
    "    z = h1 + h2 - 0.5\n",
    "    y = step(z)\n",
    "    return y, (h1, h2), (z1, z2, z)"
   ]
  },
  {
   "cell_type": "code",
   "execution_count": 100,
   "id": "86960c05",
   "metadata": {},
   "outputs": [
    {
     "name": "stdout",
     "output_type": "stream",
     "text": [
      "x=(0,0)  h=(0,1)  y=1\n",
      "x=(0,1)  h=(0,0)  y=0\n",
      "x=(1,0)  h=(0,0)  y=0\n",
      "x=(1,1)  h=(1,0)  y=1\n"
     ]
    }
   ],
   "source": [
    "# comprobar si funciona con los x's\n",
    "xs = [(0,0), (0,1), (1,0), (1,1)]\n",
    "for x1, x2 in xs:\n",
    "    y, (h1, h2), (z1, z2, z) = xnor(x1, x2)\n",
    "    print(f\"x=({x1},{x2})  h=({h1},{h2})  y={y}\")"
   ]
  },
  {
   "cell_type": "markdown",
   "id": "8d815395",
   "metadata": {},
   "source": [
    "### 2do método"
   ]
  },
  {
   "cell_type": "code",
   "execution_count": 101,
   "id": "d6645596",
   "metadata": {},
   "outputs": [],
   "source": [
    "import numpy as np"
   ]
  },
  {
   "cell_type": "code",
   "execution_count": 102,
   "id": "f68ef7f2",
   "metadata": {},
   "outputs": [],
   "source": [
    "def escalon(z):\n",
    "  if z >= 0.0:\n",
    "    return 1.0\n",
    "  else:\n",
    "    return 0.0\n",
    "  \n",
    "escv = np.vectorize(escalon)"
   ]
  },
  {
   "cell_type": "code",
   "execution_count": 103,
   "id": "a3fc8982",
   "metadata": {},
   "outputs": [],
   "source": [
    "def multicapa(x, W1, b1, W2, b2):\n",
    "  a = escv(np.dot(W1.T, x) + b1)\n",
    "  return  escv(np.dot(W2.T, a) + b2)"
   ]
  },
  {
   "cell_type": "code",
   "execution_count": null,
   "id": "d71a7804",
   "metadata": {},
   "outputs": [
    {
     "name": "stdout",
     "output_type": "stream",
     "text": [
      "W_1^1 = [[ 1 -1][ 1 -1]], b_1 = [-1.5  0.5]\n",
      "W_2 = [[1][1]], b_2 = [-0.5]\n",
      "-----------------------------\n",
      "x_1 \tx_2 \ty\ty_hat\n",
      "-----------------------------\n",
      "0.0\t0.0\t1.0\t1.0\n",
      "0.0\t1.0\t0.0\t0.0\n",
      "1.0\t0.0\t0.0\t0.0\n",
      "1.0\t1.0\t1.0\t1.0\n"
     ]
    }
   ],
   "source": [
    "X = np.array([[0., 0.], [0., 1.], [1., 0.], [1., 1.]])\n",
    "y_xor = np.array([1., 0., 0., 1.])\n",
    "W1 = np.array([[1, -1], [1, -1]])\n",
    "b1 = np.array([-1.5, 0.5])\n",
    "\n",
    "W2 = np.array([[1], [1]])\n",
    "b2 = np.array([-0.5])\n",
    "\n",
    "print(f'W_1 = [{W1[0, :]}{W1[1, :]}], b_1 = {b1}')\n",
    "print(f'W_2 = [{W2[0]}{W2[1]}], b_2 = {b2}')\n",
    "print(f'-----------------------------')\n",
    "print(f'x_1 \\tx_2 \\ty\\ty_hat')\n",
    "print(f'-----------------------------')\n",
    "for i in range(X.shape[0]):\n",
    "  y_hat = multicapa(X[i].T, W1, b1, W2, b2)\n",
    "  print(f'{X[i, 0]}\\t{X[i, 1]}\\t{y_xor[i]}\\t{y_hat[0]}')"
   ]
  }
 ],
 "metadata": {
  "kernelspec": {
   "display_name": "Python 3",
   "language": "python",
   "name": "python3"
  },
  "language_info": {
   "codemirror_mode": {
    "name": "ipython",
    "version": 3
   },
   "file_extension": ".py",
   "mimetype": "text/x-python",
   "name": "python",
   "nbconvert_exporter": "python",
   "pygments_lexer": "ipython3",
   "version": "3.13.3"
  }
 },
 "nbformat": 4,
 "nbformat_minor": 5
}
